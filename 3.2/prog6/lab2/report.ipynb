{
 "cells": [
  {
   "cell_type": "markdown",
   "metadata": {},
   "source": [
    "# Суворов Роман ИВТ 2.1\n",
    "# Прог6 Лабораторная работа №2"
   ]
  },
  {
   "cell_type": "code",
   "execution_count": 1,
   "metadata": {},
   "outputs": [
    {
     "name": "stdout",
     "output_type": "stream",
     "text": [
      "Количество мужчин и женщин 577 314\n",
      "Пассажиры по портам (S, C, Q) 644 168 77\n",
      "Доля погибших (число и %) 549 (61.62%)\n",
      "Доли пассажиров по классам (%) {3: 55.106621773288445, 1: 24.242424242424242, 2: 20.65095398428732}\n",
      "Корреляция SibSp и Parch 0.414838\n",
      "Корреляция возраста и Survived -0.077221\n",
      "Корреляция пола и Survived -0.543351\n",
      "Корреляция класса и Survived -0.338481\n",
      "Возраст (средний, медиана, мин, макс) ('29.699118', '28.000000', '0.420000', '80.000000')\n",
      "Цена за билет (средняя, медиана, мин, макс) ('32.204208', '14.454200', '0.000000', '512.329200')\n",
      "Самое популярное мужское имя William\n",
      "Популярные мужское и женское имена (старше 15) ('William', 'Elizabeth')\n"
     ]
    }
   ],
   "source": [
    "import pandas as pd\n",
    "\n",
    "pd.options.display.float_format = '{:.6f}'.format\n",
    "\n",
    "df = pd.read_csv('./data/train.csv')\n",
    "\n",
    "sex_counts = df['Sex'].value_counts()\n",
    "men_women_counts = f\"{sex_counts['male']} {sex_counts['female']}\"\n",
    "\n",
    "embarked_counts = df['Embarked'].value_counts()\n",
    "embarked_counts_result = f\"{embarked_counts.get('S', 0)} {embarked_counts.get('C', 0)} {embarked_counts.get('Q', 0)}\"\n",
    "\n",
    "total_passengers = len(df)\n",
    "num_died = (df['Survived'] == 0).sum()\n",
    "death_percentage = (num_died / total_passengers) * 100\n",
    "\n",
    "class_shares = df['Pclass'].value_counts(normalize=True) * 100\n",
    "\n",
    "corr_sibsp_parch = df['SibSp'].corr(df['Parch'])\n",
    "\n",
    "corr_age_survived = df['Age'].corr(df['Survived'])\n",
    "df['Sex_binary'] = df['Sex'].map({'male': 1, 'female': 0})\n",
    "corr_sex_survived = df['Sex_binary'].corr(df['Survived'])\n",
    "corr_class_survived = df['Pclass'].corr(df['Survived'])\n",
    "\n",
    "mean_age = df['Age'].mean()\n",
    "median_age = df['Age'].median()\n",
    "min_age = df['Age'].min()\n",
    "max_age = df['Age'].max()\n",
    "\n",
    "mean_fare = df['Fare'].mean()\n",
    "median_fare = df['Fare'].median()\n",
    "min_fare = df['Fare'].min()\n",
    "max_fare = df['Fare'].max()\n",
    "\n",
    "male_names = df[df['Sex'] == 'male']['Name'].str.extract(r',\\sMr\\.\\s([A-Za-z]+)', expand=False)\n",
    "most_popular_male_name = male_names.value_counts().idxmax()\n",
    "\n",
    "adult_passengers = df[df['Age'] > 15]\n",
    "adult_male_names = adult_passengers[adult_passengers['Sex'] == 'male']['Name'].str.extract(r',\\sMr\\.\\s([A-Za-z]+)', expand=False)\n",
    "adult_female_names = adult_passengers[adult_passengers['Sex'] == 'female']['Name'].str.extract(r',\\s(?:Mrs\\.|Miss\\.)\\s(?:\\w+\\s)?\\(?([A-Za-z]+)', expand=False)\n",
    "most_popular_adult_male_name = adult_male_names.value_counts().idxmax()\n",
    "most_popular_adult_female_name = adult_female_names.value_counts().idxmax()\n",
    "\n",
    "print(\"Количество мужчин и женщин\", men_women_counts)\n",
    "print(\"Пассажиры по портам (S, C, Q)\", embarked_counts_result)\n",
    "print(\"Доля погибших (число и %)\", f\"{num_died} ({death_percentage:.2f}%)\")\n",
    "print(\"Доли пассажиров по классам (%)\", class_shares.to_dict())\n",
    "print(\"Корреляция SibSp и Parch\", f\"{corr_sibsp_parch:.6f}\")\n",
    "print(\"Корреляция возраста и Survived\", f\"{corr_age_survived:.6f}\")\n",
    "print(\"Корреляция пола и Survived\", f\"{corr_sex_survived:.6f}\")\n",
    "print(\"Корреляция класса и Survived\", f\"{corr_class_survived:.6f}\")\n",
    "print(\"Возраст (средний, медиана, мин, макс)\", (f\"{mean_age:.6f}\", f\"{median_age:.6f}\", f\"{min_age:.6f}\", f\"{max_age:.6f}\"))\n",
    "print(\"Цена за билет (средняя, медиана, мин, макс)\", (f\"{mean_fare:.6f}\", f\"{median_fare:.6f}\", f\"{min_fare:.6f}\", f\"{max_fare:.6f}\"))\n",
    "print(\"Самое популярное мужское имя\", most_popular_male_name)\n",
    "print(\"Популярные мужское и женское имена (старше 15)\", (most_popular_adult_male_name, most_popular_adult_female_name))\n"
   ]
  }
 ],
 "metadata": {
  "kernelspec": {
   "display_name": "venv",
   "language": "python",
   "name": "python3"
  },
  "language_info": {
   "codemirror_mode": {
    "name": "ipython",
    "version": 3
   },
   "file_extension": ".py",
   "mimetype": "text/x-python",
   "name": "python",
   "nbconvert_exporter": "python",
   "pygments_lexer": "ipython3",
   "version": "3.13.2"
  }
 },
 "nbformat": 4,
 "nbformat_minor": 2
}
